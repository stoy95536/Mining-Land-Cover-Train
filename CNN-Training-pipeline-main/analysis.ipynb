{
 "cells": [
  {
   "cell_type": "code",
   "execution_count": 6,
   "metadata": {},
   "outputs": [],
   "source": [
    "import pandas as pd\n",
    "import matplotlib as plt\n",
    "import os \n",
    "import re"
   ]
  },
  {
   "cell_type": "code",
   "execution_count": 2,
   "metadata": {},
   "outputs": [],
   "source": [
    "folder_loc = r\"E:\\Bojana\\Training\\Final-Site-sorted-results-CNN\""
   ]
  },
  {
   "cell_type": "code",
   "execution_count": 5,
   "metadata": {},
   "outputs": [],
   "source": [
    "csv_header = [\"Site\", \"Accuracy\", \"Kappa Index\", \"Mean IoU\", \"Meadows Accuracy\", \"Plantations Accuracy\", \"Roads Accuracy\", \"Shrubs Accuracy\"]\n",
    "\n",
    "\n",
    "patterns = {\n",
    "    \"accuracy\": r\"Accuracy:\\s*([\\d.]+)\",\n",
    "    \"kappa_index\": r\"Kappa Index:\\s*([\\d.]+)\",\n",
    "    \"mean_iou\": r\"Mean IoU:\\s*([\\d.]+)\",\n",
    "    \"meadows_accuracy\": r\"meadows\\s+\\d+\\.\\d+\\s+\\d+\\.\\d+\\s+\\d+\\.\\d+\\s+(\\d+)\",\n",
    "    \"plantations_accuracy\": r\"plantations\\s+\\d+\\.\\d+\\s+\\d+\\.\\d+\\s+\\d+\\.\\d+\\s+(\\d+)\",\n",
    "    \"roads_accuracy\": r\"roads\\s+\\d+\\.\\d+\\s+\\d+\\.\\d+\\s+\\d+\\.\\d+\\s+(\\d+)\",\n",
    "    \"shrubs_accuracy\": r\"shrubs\\s+\\d+\\.\\d+\\s+\\d+\\.\\d+\\s+\\d+\\.\\d+\\s+(\\d+)\"\n",
    "}\n",
    "\n",
    "results = []"
   ]
  },
  {
   "cell_type": "code",
   "execution_count": 16,
   "metadata": {},
   "outputs": [],
   "source": [
    "for site in os.listdir(folder_loc):\n",
    "    full_site_folder = os.path.join(folder_loc, site)\n",
    "    analysis_report = os.path.join(full_site_folder, \"cnn_evaluation_results.txt\")\n",
    "    data = {\"Site\": site}\n",
    "        \n",
    "    with open(analysis_report, 'r') as rep:\n",
    "        content = rep.read()\n",
    "        \n",
    "        # Extract each metric using regex\n",
    "        for key, pattern in patterns.items():\n",
    "            match = re.search(pattern, content)\n",
    "            if match:\n",
    "                data[key] = match.group(1)\n",
    "            else:\n",
    "                data[key] = None  # If not found\n",
    "\n",
    "    results.append(data)\n",
    "\n"
   ]
  },
  {
   "cell_type": "code",
   "execution_count": 17,
   "metadata": {},
   "outputs": [],
   "source": [
    "import csv\n",
    "output_csv = \"analysis.csv\""
   ]
  },
  {
   "cell_type": "code",
   "execution_count": 18,
   "metadata": {},
   "outputs": [],
   "source": [
    "df = pd.DataFrame(results)"
   ]
  },
  {
   "cell_type": "code",
   "execution_count": 19,
   "metadata": {},
   "outputs": [],
   "source": [
    "df.to_csv(output_csv)"
   ]
  },
  {
   "cell_type": "markdown",
   "metadata": {},
   "source": []
  }
 ],
 "metadata": {
  "kernelspec": {
   "display_name": "yolov8",
   "language": "python",
   "name": "python3"
  },
  "language_info": {
   "codemirror_mode": {
    "name": "ipython",
    "version": 3
   },
   "file_extension": ".py",
   "mimetype": "text/x-python",
   "name": "python",
   "nbconvert_exporter": "python",
   "pygments_lexer": "ipython3",
   "version": "3.8.18"
  }
 },
 "nbformat": 4,
 "nbformat_minor": 2
}
