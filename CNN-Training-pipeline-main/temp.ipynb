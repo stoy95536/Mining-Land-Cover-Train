{
 "cells": [
  {
   "cell_type": "code",
   "execution_count": 1,
   "metadata": {},
   "outputs": [],
   "source": [
    "import pandas as pd\n",
    "import os\n",
    "from keras.layers import UpSampling2D\n",
    "import numpy as np\n",
    "from sklearn.metrics import cohen_kappa_score\n",
    "from keras import backend as K\n",
    "import json\n",
    "import cv2\n",
    "from sklearn.model_selection import train_test_split\n",
    "from keras.models import Sequential\n",
    "from keras.layers import Conv2D, MaxPooling2D, Flatten, Dense, Dropout, BatchNormalization\n",
    "from keras.utils import to_categorical\n",
    "from sklearn.preprocessing import LabelEncoder\n",
    "from sklearn.metrics import classification_report, confusion_matrix\n",
    "import matplotlib.pyplot as plt\n",
    "import seaborn as sns\n",
    "from keras.preprocessing.image import ImageDataGenerator\n",
    "import rasterio\n",
    "from rasterio.transform import rowcol\n",
    "from keras.layers import Input, Conv2DTranspose, concatenate, Cropping2D\n",
    "from keras.models import Model\n",
    "\n",
    "\n",
    "class CNN_Segmentor:\n",
    "    def __init__(self, image_folder, geojson_folder, class_list) -> None:\n",
    "        self.image_folder = image_folder\n",
    "        self.geojson_folder = geojson_folder\n",
    "        # self.result_folder = os.path.join(os.path.dirname(self.image_folder), \"results_multi-band_cnn\")\n",
    "        # os.makedirs(self.result_folder, exist_ok=True)\n",
    "        self.image_patches = []\n",
    "        self.labels = []\n",
    "        self.class_list = class_list\n",
    "        self.img_size = (26, 26)  # You can adjust this size as needed.\n",
    "\n",
    "    def set_result_folder(self, site_folder, result_folder):\n",
    "        \"\"\"Set result folder based on the site folder\"\"\"\n",
    "        self.result_folder = os.path.join(result_folder, os.path.basename(site_folder))\n",
    "        os.makedirs(self.result_folder, exist_ok=True)\n",
    "\n",
    "    def extract_patches(self, json_data, image, class_name, feature_num, image_filename):\n",
    "        feature_num = int(feature_num)\n",
    "\n",
    "        if feature_num < len(json_data['features']):\n",
    "            shape = json_data['features'][feature_num]\n",
    "            coordinates = np.array(shape['geometry']['coordinates'][0], dtype=np.float32)\n",
    "\n",
    "            # Use the raster transform to map geographic coordinates to pixel coordinates\n",
    "            with rasterio.open(image_filename) as src:\n",
    "                pixel_coords = [rowcol(src.transform, x, y) for x, y in coordinates]\n",
    "            \n",
    "            pixel_coords = np.array(pixel_coords)\n",
    "            x_min, y_min = max(0, int(pixel_coords[:, 1].min())), max(0, int(pixel_coords[:, 0].min()))\n",
    "            x_max, y_max = min(image.shape[1], int(pixel_coords[:, 1].max())), min(image.shape[0], int(pixel_coords[:, 0].max()))\n",
    "\n",
    "            if x_max > x_min and y_max > y_min:\n",
    "                patch = image[y_min:y_max, x_min:x_max]\n",
    "                if patch.size > 0:\n",
    "                    patch_resized = cv2.resize(patch, self.img_size)\n",
    "                    self.image_patches.append(patch_resized)\n",
    "                    self.labels.append(class_name)\n",
    "\n",
    "    def load_data(self):\n",
    "        for file in os.listdir(self.image_folder):\n",
    "            if file.endswith('.tif'):\n",
    "                filename_parts = file.split('_')\n",
    "                class_name = None\n",
    "                class_index = -1  # To store the index where the class name is found\n",
    "\n",
    "                # Loop through filename parts to find a class name in the list\n",
    "                for idx, part in enumerate(filename_parts):\n",
    "                    if part in self.class_list:\n",
    "                        class_name = part\n",
    "                        class_index = idx  # Store the index of the class name\n",
    "                        break\n",
    "              \n",
    "                if class_name is None:\n",
    "                    print(f\"Warning: No class found in {file}. Skipping...\")\n",
    "                    continue\n",
    "\n",
    "                # Handle feature number extraction, which is the last part of the filename\n",
    "                feature_num = filename_parts[-1].replace('feature', '').split('.')[0]\n",
    "\n",
    "                # Create geojson filename by using only the parts before the class index\n",
    "                # Assuming the geojson filename is formed by joining the parts before the class name\n",
    "                geojson_filename = f\"{'_'.join(filename_parts[0:class_index])}.geojson\"\n",
    "\n",
    "                image_filename = os.path.join(self.image_folder, file)\n",
    "                geojson_filepath = os.path.join(self.geojson_folder, geojson_filename)\n",
    "\n",
    "                if os.path.exists(image_filename) and os.path.exists(geojson_filepath):\n",
    "                    with open(geojson_filepath, 'r') as json_file:\n",
    "                        json_data = json.load(json_file)\n",
    "\n",
    "                    with rasterio.open(image_filename) as src:\n",
    "                        image = src.read()\n",
    "\n",
    "                        # Now handle 5-band images\n",
    "                        if image.shape[0] == 5:\n",
    "                            image = np.stack([image[0], image[1], image[2], image[3], image[4]], axis=-1)\n",
    "                        else:\n",
    "                            print(f\"Warning: The image {image_filename} does not have 5 bands.\")\n",
    "\n",
    "                        # Call the method to extract patches\n",
    "                        self.extract_patches(json_data, image, class_name, feature_num, image_filename)\n",
    "\n",
    "    def preprocess_data(self):\n",
    "        X = np.array(self.image_patches) / 255.0  # Normalize pixel values\n",
    "        X = X.reshape(-1, self.img_size[0], self.img_size[1], 5)  # Adjust for 5-band images\n",
    "        label_encoder = LabelEncoder()\n",
    "        y = label_encoder.fit_transform(self.labels)\n",
    "        y = to_categorical(y)  # One-hot encode labels\n",
    "        return X, y, label_encoder\n",
    "\n",
    "    def augment_data(self, X, y, label_encoder):\n",
    "        class_counts = np.bincount(np.argmax(y, axis=1))\n",
    "        max_count = class_counts.max()\n",
    "        augmented_images = []\n",
    "        augmented_labels = []\n",
    "\n",
    "        datagen = ImageDataGenerator(rotation_range=15, width_shift_range=0.1,\n",
    "                                     height_shift_range=0.1, shear_range=0.2,\n",
    "                                     zoom_range=0.1, horizontal_flip=True)\n",
    "\n",
    "        for class_idx in range(len(class_counts)):\n",
    "            class_mask = np.argmax(y, axis=1) == class_idx\n",
    "            class_images = X[class_mask]\n",
    "            class_labels = y[class_mask]\n",
    "\n",
    "            if class_counts[class_idx] < max_count:\n",
    "                augment_size = max_count - class_counts[class_idx]\n",
    "                i = 0\n",
    "                for batch in datagen.flow(class_images, class_labels, batch_size=1):\n",
    "                    augmented_images.append(batch[0].reshape(self.img_size[0], self.img_size[1], 5))\n",
    "                    augmented_labels.append(batch[1].reshape(y.shape[1]))  # Reshape augmented labels to match y's dimensions\n",
    "                    i += 1\n",
    "                    if i >= augment_size:\n",
    "                        break\n",
    "\n",
    "        if augmented_images:\n",
    "            X_augmented = np.array(augmented_images)\n",
    "            y_augmented = np.array(augmented_labels)\n",
    "            X = np.concatenate((X, X_augmented), axis=0)\n",
    "            y = np.concatenate((y, y_augmented), axis=0)\n",
    "\n",
    "        return X, y\n",
    "\n",
    "\n",
    "\n",
    "\n",
    "    def build_cnn(self):\n",
    "        \"\"\"Build a simple CNN model for 5-band images\"\"\"\n",
    "        model = Sequential()\n",
    "        \n",
    "        # First convolutional block\n",
    "        model.add(Conv2D(32, (3, 3), activation='relu', input_shape=(self.img_size[0], self.img_size[1], 5)))\n",
    "        model.add(BatchNormalization())\n",
    "        model.add(MaxPooling2D(pool_size=(2, 2)))\n",
    "\n",
    "        # Second convolutional block\n",
    "        model.add(Conv2D(64, (3, 3), activation='relu'))\n",
    "        model.add(BatchNormalization())\n",
    "        model.add(MaxPooling2D(pool_size=(2, 2)))\n",
    "\n",
    "        # Third convolutional block\n",
    "        model.add(Conv2D(128, (3, 3), activation='relu'))\n",
    "        model.add(BatchNormalization())\n",
    "        model.add(MaxPooling2D(pool_size=(2, 2)))\n",
    "\n",
    "        # Flatten the output from convolutional layers\n",
    "        model.add(Flatten())\n",
    "\n",
    "        # Fully connected layers\n",
    "        model.add(Dense(256, activation='relu'))\n",
    "        model.add(Dropout(0.5))\n",
    "        model.add(Dense(128, activation='relu'))\n",
    "        \n",
    "        # Output layer (softmax for multi-class classification)\n",
    "        model.add(Dense(len(np.unique(self.labels)), activation='softmax'))\n",
    "\n",
    "        # Compile the model\n",
    "        model.compile(optimizer='adam', loss='categorical_crossentropy', metrics=['accuracy'])\n",
    "        \n",
    "        return model\n",
    "\n",
    "    def train_cnn(self, model, X_train, y_train, X_test, y_test):\n",
    "        history = model.fit(X_train, y_train, epochs=100, batch_size=16, validation_data=(X_test, y_test))\n",
    "        model.save(os.path.join(self.result_folder, \"cnn_model.h5\"))\n",
    "        return history\n",
    "\n",
    "    def mean_iou(self, y_true, y_pred):\n",
    "        # Convert the predictions to binary labels based on the maximum probability\n",
    "        y_pred = K.argmax(y_pred, axis=-1)\n",
    "        y_true = K.argmax(y_true, axis=-1)\n",
    "        \n",
    "        # Calculate IoU for each class and take the mean IoU\n",
    "        iou_list = []\n",
    "        for i in range(len(np.unique(y_true))):\n",
    "            true_labels = K.equal(y_true, i)\n",
    "            pred_labels = K.equal(y_pred, i)\n",
    "            intersection = K.sum(K.cast(true_labels & pred_labels, 'float32'))\n",
    "            union = K.sum(K.cast(true_labels | pred_labels, 'float32'))\n",
    "            iou = intersection / (union + K.epsilon())\n",
    "            iou_list.append(iou)\n",
    "        \n",
    "        return K.mean(K.stack(iou_list))\n",
    "\n",
    "    def evaluate_cnn(self, model, X_test, y_test, label_encoder):\n",
    "        y_pred = model.predict(X_test)\n",
    "        y_pred_classes = np.argmax(y_pred, axis=1)\n",
    "        y_true = np.argmax(y_test, axis=1)\n",
    "        \n",
    "        # Calculate accuracy\n",
    "        accuracy = np.mean(y_pred_classes == y_true)\n",
    "        print(f\"Accuracy: {accuracy}\")\n",
    "        \n",
    "        # Confusion matrix and classification report\n",
    "        cm = confusion_matrix(y_true, y_pred_classes)\n",
    "        report = classification_report(y_true, y_pred_classes, target_names=label_encoder.classes_)\n",
    "        \n",
    "        print(\"\\nClassification Report:\")\n",
    "        print(report)\n",
    "        print(\"\\nConfusion Matrix:\")\n",
    "        print(cm)\n",
    "        \n",
    "        # Kappa index calculation\n",
    "        kappa = cohen_kappa_score(y_true, y_pred_classes)\n",
    "        print(f\"Kappa Index: {kappa}\")\n",
    "        \n",
    "        # mIoU calculation\n",
    "        iou = self.mean_iou(y_test, y_pred).numpy()  # Convert tensor to numpy\n",
    "        print(f\"Mean IoU: {iou}\")\n",
    "        \n",
    "        # Save results\n",
    "        with open(os.path.join(self.result_folder, \"cnn_evaluation_results.txt\"), 'w') as f:\n",
    "            f.write(f\"Accuracy: {accuracy}\\n\")\n",
    "            f.write(f\"Kappa Index: {kappa}\\n\")\n",
    "            f.write(f\"Mean IoU: {iou}\\n\")\n",
    "            f.write(\"\\nClassification Report:\\n\")\n",
    "            f.write(report)\n",
    "            f.write(\"\\nConfusion Matrix:\\n\")\n",
    "            f.write(np.array2string(cm))\n",
    "        \n",
    "        # Plot confusion matrix\n",
    "        plt.figure(figsize=(10, 7))\n",
    "        sns.heatmap(cm, annot=True, fmt='d', cmap='Blues', xticklabels=label_encoder.classes_, yticklabels=label_encoder.classes_)\n",
    "        plt.title(\"Confusion Matrix\")\n",
    "        plt.ylabel('Actual')\n",
    "        plt.xlabel('Predicted')\n",
    "        plt.savefig(os.path.join(self.result_folder, \"cnn_confusion_matrix.png\"))\n",
    "        plt.close()\n",
    "\n",
    "        # Plot classification report\n",
    "        fig, ax = plt.subplots(figsize=(8, 6))\n",
    "        ax.text(0, 0.5, report, fontsize=12, va='center')\n",
    "        ax.axis('off')\n",
    "        plt.savefig(os.path.join(self.result_folder,  \"cnn_classification_report.png\"))\n",
    "        plt.close()\n",
    "        \n",
    "    def plot_history(self, history):\n",
    "        plt.figure(figsize=(12, 4))\n",
    "        plt.subplot(1, 2, 1)\n",
    "        plt.plot(history.history['accuracy'], label='Train Accuracy')\n",
    "        plt.plot(history.history['val_accuracy'], label='Validation Accuracy')\n",
    "        plt.title('Accuracy Over Epochs')\n",
    "        plt.xlabel('Epochs')\n",
    "        plt.ylabel('Accuracy')\n",
    "        plt.legend()\n",
    "\n",
    "        plt.subplot(1, 2, 2)\n",
    "        plt.plot(history.history['loss'], label='Train Loss')\n",
    "        plt.plot(history.history['val_loss'], label='Validation Loss')\n",
    "        plt.title('Loss Over Epochs')\n",
    "        plt.xlabel('Epochs')\n",
    "        plt.ylabel('Loss')\n",
    "        plt.legend()\n",
    "\n",
    "        plt.savefig(os.path.join(self.result_folder, \"cnn_training_history.png\"))\n",
    "        plt.close()"
   ]
  },
  {
   "cell_type": "code",
   "execution_count": 4,
   "metadata": {},
   "outputs": [
    {
     "name": "stdout",
     "output_type": "stream",
     "text": [
      "Processing site: Backi_Monostor\n"
     ]
    },
    {
     "name": "stderr",
     "output_type": "stream",
     "text": [
      "c:\\Users\\Administrator\\anaconda3\\envs\\yolov8\\lib\\site-packages\\keras\\src\\preprocessing\\image.py:766: UserWarning: NumpyArrayIterator is set to use the data format convention \"channels_last\" (channels on axis 3), i.e. expected either 1, 3, or 4 channels on axis 3. However, it was passed an array with shape (137, 26, 26, 5) (5 channels).\n",
      "  warnings.warn(\n",
      "c:\\Users\\Administrator\\anaconda3\\envs\\yolov8\\lib\\site-packages\\keras\\src\\preprocessing\\image.py:766: UserWarning: NumpyArrayIterator is set to use the data format convention \"channels_last\" (channels on axis 3), i.e. expected either 1, 3, or 4 channels on axis 3. However, it was passed an array with shape (148, 26, 26, 5) (5 channels).\n",
      "  warnings.warn(\n",
      "c:\\Users\\Administrator\\anaconda3\\envs\\yolov8\\lib\\site-packages\\keras\\src\\preprocessing\\image.py:766: UserWarning: NumpyArrayIterator is set to use the data format convention \"channels_last\" (channels on axis 3), i.e. expected either 1, 3, or 4 channels on axis 3. However, it was passed an array with shape (62, 26, 26, 5) (5 channels).\n",
      "  warnings.warn(\n",
      "c:\\Users\\Administrator\\anaconda3\\envs\\yolov8\\lib\\site-packages\\keras\\src\\preprocessing\\image.py:766: UserWarning: NumpyArrayIterator is set to use the data format convention \"channels_last\" (channels on axis 3), i.e. expected either 1, 3, or 4 channels on axis 3. However, it was passed an array with shape (190, 26, 26, 5) (5 channels).\n",
      "  warnings.warn(\n",
      "c:\\Users\\Administrator\\anaconda3\\envs\\yolov8\\lib\\site-packages\\keras\\src\\preprocessing\\image.py:766: UserWarning: NumpyArrayIterator is set to use the data format convention \"channels_last\" (channels on axis 3), i.e. expected either 1, 3, or 4 channels on axis 3. However, it was passed an array with shape (87, 26, 26, 5) (5 channels).\n",
      "  warnings.warn(\n"
     ]
    },
    {
     "name": "stdout",
     "output_type": "stream",
     "text": [
      "Processing site: Besna_Kobila\n"
     ]
    },
    {
     "name": "stderr",
     "output_type": "stream",
     "text": [
      "c:\\Users\\Administrator\\anaconda3\\envs\\yolov8\\lib\\site-packages\\keras\\src\\preprocessing\\image.py:766: UserWarning: NumpyArrayIterator is set to use the data format convention \"channels_last\" (channels on axis 3), i.e. expected either 1, 3, or 4 channels on axis 3. However, it was passed an array with shape (48, 26, 26, 5) (5 channels).\n",
      "  warnings.warn(\n",
      "c:\\Users\\Administrator\\anaconda3\\envs\\yolov8\\lib\\site-packages\\keras\\src\\preprocessing\\image.py:766: UserWarning: NumpyArrayIterator is set to use the data format convention \"channels_last\" (channels on axis 3), i.e. expected either 1, 3, or 4 channels on axis 3. However, it was passed an array with shape (18, 26, 26, 5) (5 channels).\n",
      "  warnings.warn(\n",
      "c:\\Users\\Administrator\\anaconda3\\envs\\yolov8\\lib\\site-packages\\keras\\src\\preprocessing\\image.py:766: UserWarning: NumpyArrayIterator is set to use the data format convention \"channels_last\" (channels on axis 3), i.e. expected either 1, 3, or 4 channels on axis 3. However, it was passed an array with shape (144, 26, 26, 5) (5 channels).\n",
      "  warnings.warn(\n",
      "c:\\Users\\Administrator\\anaconda3\\envs\\yolov8\\lib\\site-packages\\keras\\src\\preprocessing\\image.py:766: UserWarning: NumpyArrayIterator is set to use the data format convention \"channels_last\" (channels on axis 3), i.e. expected either 1, 3, or 4 channels on axis 3. However, it was passed an array with shape (55, 26, 26, 5) (5 channels).\n",
      "  warnings.warn(\n",
      "c:\\Users\\Administrator\\anaconda3\\envs\\yolov8\\lib\\site-packages\\keras\\src\\preprocessing\\image.py:766: UserWarning: NumpyArrayIterator is set to use the data format convention \"channels_last\" (channels on axis 3), i.e. expected either 1, 3, or 4 channels on axis 3. However, it was passed an array with shape (129, 26, 26, 5) (5 channels).\n",
      "  warnings.warn(\n"
     ]
    },
    {
     "name": "stdout",
     "output_type": "stream",
     "text": [
      "Processing site: Bezdan_1\n"
     ]
    },
    {
     "name": "stderr",
     "output_type": "stream",
     "text": [
      "c:\\Users\\Administrator\\anaconda3\\envs\\yolov8\\lib\\site-packages\\keras\\src\\preprocessing\\image.py:766: UserWarning: NumpyArrayIterator is set to use the data format convention \"channels_last\" (channels on axis 3), i.e. expected either 1, 3, or 4 channels on axis 3. However, it was passed an array with shape (48, 26, 26, 5) (5 channels).\n",
      "  warnings.warn(\n",
      "c:\\Users\\Administrator\\anaconda3\\envs\\yolov8\\lib\\site-packages\\keras\\src\\preprocessing\\image.py:766: UserWarning: NumpyArrayIterator is set to use the data format convention \"channels_last\" (channels on axis 3), i.e. expected either 1, 3, or 4 channels on axis 3. However, it was passed an array with shape (51, 26, 26, 5) (5 channels).\n",
      "  warnings.warn(\n",
      "c:\\Users\\Administrator\\anaconda3\\envs\\yolov8\\lib\\site-packages\\keras\\src\\preprocessing\\image.py:766: UserWarning: NumpyArrayIterator is set to use the data format convention \"channels_last\" (channels on axis 3), i.e. expected either 1, 3, or 4 channels on axis 3. However, it was passed an array with shape (126, 26, 26, 5) (5 channels).\n",
      "  warnings.warn(\n"
     ]
    },
    {
     "name": "stdout",
     "output_type": "stream",
     "text": [
      "Processing site: Bezdan_2\n"
     ]
    },
    {
     "name": "stderr",
     "output_type": "stream",
     "text": [
      "c:\\Users\\Administrator\\anaconda3\\envs\\yolov8\\lib\\site-packages\\keras\\src\\preprocessing\\image.py:766: UserWarning: NumpyArrayIterator is set to use the data format convention \"channels_last\" (channels on axis 3), i.e. expected either 1, 3, or 4 channels on axis 3. However, it was passed an array with shape (36, 26, 26, 5) (5 channels).\n",
      "  warnings.warn(\n",
      "c:\\Users\\Administrator\\anaconda3\\envs\\yolov8\\lib\\site-packages\\keras\\src\\preprocessing\\image.py:766: UserWarning: NumpyArrayIterator is set to use the data format convention \"channels_last\" (channels on axis 3), i.e. expected either 1, 3, or 4 channels on axis 3. However, it was passed an array with shape (25, 26, 26, 5) (5 channels).\n",
      "  warnings.warn(\n",
      "c:\\Users\\Administrator\\anaconda3\\envs\\yolov8\\lib\\site-packages\\keras\\src\\preprocessing\\image.py:766: UserWarning: NumpyArrayIterator is set to use the data format convention \"channels_last\" (channels on axis 3), i.e. expected either 1, 3, or 4 channels on axis 3. However, it was passed an array with shape (22, 26, 26, 5) (5 channels).\n",
      "  warnings.warn(\n",
      "c:\\Users\\Administrator\\anaconda3\\envs\\yolov8\\lib\\site-packages\\keras\\src\\preprocessing\\image.py:766: UserWarning: NumpyArrayIterator is set to use the data format convention \"channels_last\" (channels on axis 3), i.e. expected either 1, 3, or 4 channels on axis 3. However, it was passed an array with shape (95, 26, 26, 5) (5 channels).\n",
      "  warnings.warn(\n"
     ]
    },
    {
     "name": "stdout",
     "output_type": "stream",
     "text": [
      "Processing site: Ceka\n"
     ]
    },
    {
     "name": "stderr",
     "output_type": "stream",
     "text": [
      "c:\\Users\\Administrator\\anaconda3\\envs\\yolov8\\lib\\site-packages\\keras\\src\\preprocessing\\image.py:766: UserWarning: NumpyArrayIterator is set to use the data format convention \"channels_last\" (channels on axis 3), i.e. expected either 1, 3, or 4 channels on axis 3. However, it was passed an array with shape (36, 26, 26, 5) (5 channels).\n",
      "  warnings.warn(\n",
      "c:\\Users\\Administrator\\anaconda3\\envs\\yolov8\\lib\\site-packages\\keras\\src\\preprocessing\\image.py:766: UserWarning: NumpyArrayIterator is set to use the data format convention \"channels_last\" (channels on axis 3), i.e. expected either 1, 3, or 4 channels on axis 3. However, it was passed an array with shape (45, 26, 26, 5) (5 channels).\n",
      "  warnings.warn(\n",
      "c:\\Users\\Administrator\\anaconda3\\envs\\yolov8\\lib\\site-packages\\keras\\src\\preprocessing\\image.py:766: UserWarning: NumpyArrayIterator is set to use the data format convention \"channels_last\" (channels on axis 3), i.e. expected either 1, 3, or 4 channels on axis 3. However, it was passed an array with shape (146, 26, 26, 5) (5 channels).\n",
      "  warnings.warn(\n"
     ]
    },
    {
     "name": "stdout",
     "output_type": "stream",
     "text": [
      "Processing site: Demizlok\n"
     ]
    },
    {
     "name": "stderr",
     "output_type": "stream",
     "text": [
      "c:\\Users\\Administrator\\anaconda3\\envs\\yolov8\\lib\\site-packages\\keras\\src\\preprocessing\\image.py:766: UserWarning: NumpyArrayIterator is set to use the data format convention \"channels_last\" (channels on axis 3), i.e. expected either 1, 3, or 4 channels on axis 3. However, it was passed an array with shape (118, 26, 26, 5) (5 channels).\n",
      "  warnings.warn(\n"
     ]
    },
    {
     "name": "stdout",
     "output_type": "stream",
     "text": [
      "Processing site: Dojkinci_1\n"
     ]
    },
    {
     "name": "stderr",
     "output_type": "stream",
     "text": [
      "c:\\Users\\Administrator\\anaconda3\\envs\\yolov8\\lib\\site-packages\\keras\\src\\preprocessing\\image.py:766: UserWarning: NumpyArrayIterator is set to use the data format convention \"channels_last\" (channels on axis 3), i.e. expected either 1, 3, or 4 channels on axis 3. However, it was passed an array with shape (270, 26, 26, 5) (5 channels).\n",
      "  warnings.warn(\n",
      "c:\\Users\\Administrator\\anaconda3\\envs\\yolov8\\lib\\site-packages\\keras\\src\\preprocessing\\image.py:766: UserWarning: NumpyArrayIterator is set to use the data format convention \"channels_last\" (channels on axis 3), i.e. expected either 1, 3, or 4 channels on axis 3. However, it was passed an array with shape (216, 26, 26, 5) (5 channels).\n",
      "  warnings.warn(\n",
      "c:\\Users\\Administrator\\anaconda3\\envs\\yolov8\\lib\\site-packages\\keras\\src\\preprocessing\\image.py:766: UserWarning: NumpyArrayIterator is set to use the data format convention \"channels_last\" (channels on axis 3), i.e. expected either 1, 3, or 4 channels on axis 3. However, it was passed an array with shape (274, 26, 26, 5) (5 channels).\n",
      "  warnings.warn(\n",
      "c:\\Users\\Administrator\\anaconda3\\envs\\yolov8\\lib\\site-packages\\keras\\src\\preprocessing\\image.py:766: UserWarning: NumpyArrayIterator is set to use the data format convention \"channels_last\" (channels on axis 3), i.e. expected either 1, 3, or 4 channels on axis 3. However, it was passed an array with shape (194, 26, 26, 5) (5 channels).\n",
      "  warnings.warn(\n",
      "c:\\Users\\Administrator\\anaconda3\\envs\\yolov8\\lib\\site-packages\\keras\\src\\preprocessing\\image.py:766: UserWarning: NumpyArrayIterator is set to use the data format convention \"channels_last\" (channels on axis 3), i.e. expected either 1, 3, or 4 channels on axis 3. However, it was passed an array with shape (343, 26, 26, 5) (5 channels).\n",
      "  warnings.warn(\n"
     ]
    },
    {
     "name": "stdout",
     "output_type": "stream",
     "text": [
      "Processing site: Dojkinci_2\n"
     ]
    },
    {
     "name": "stderr",
     "output_type": "stream",
     "text": [
      "c:\\Users\\Administrator\\anaconda3\\envs\\yolov8\\lib\\site-packages\\keras\\src\\preprocessing\\image.py:766: UserWarning: NumpyArrayIterator is set to use the data format convention \"channels_last\" (channels on axis 3), i.e. expected either 1, 3, or 4 channels on axis 3. However, it was passed an array with shape (83, 26, 26, 5) (5 channels).\n",
      "  warnings.warn(\n",
      "c:\\Users\\Administrator\\anaconda3\\envs\\yolov8\\lib\\site-packages\\keras\\src\\preprocessing\\image.py:766: UserWarning: NumpyArrayIterator is set to use the data format convention \"channels_last\" (channels on axis 3), i.e. expected either 1, 3, or 4 channels on axis 3. However, it was passed an array with shape (245, 26, 26, 5) (5 channels).\n",
      "  warnings.warn(\n",
      "c:\\Users\\Administrator\\anaconda3\\envs\\yolov8\\lib\\site-packages\\keras\\src\\preprocessing\\image.py:766: UserWarning: NumpyArrayIterator is set to use the data format convention \"channels_last\" (channels on axis 3), i.e. expected either 1, 3, or 4 channels on axis 3. However, it was passed an array with shape (206, 26, 26, 5) (5 channels).\n",
      "  warnings.warn(\n",
      "c:\\Users\\Administrator\\anaconda3\\envs\\yolov8\\lib\\site-packages\\keras\\src\\preprocessing\\image.py:766: UserWarning: NumpyArrayIterator is set to use the data format convention \"channels_last\" (channels on axis 3), i.e. expected either 1, 3, or 4 channels on axis 3. However, it was passed an array with shape (192, 26, 26, 5) (5 channels).\n",
      "  warnings.warn(\n"
     ]
    },
    {
     "name": "stdout",
     "output_type": "stream",
     "text": [
      "Processing site: Donje_Vlase\n"
     ]
    },
    {
     "name": "stderr",
     "output_type": "stream",
     "text": [
      "c:\\Users\\Administrator\\anaconda3\\envs\\yolov8\\lib\\site-packages\\keras\\src\\preprocessing\\image.py:766: UserWarning: NumpyArrayIterator is set to use the data format convention \"channels_last\" (channels on axis 3), i.e. expected either 1, 3, or 4 channels on axis 3. However, it was passed an array with shape (157, 26, 26, 5) (5 channels).\n",
      "  warnings.warn(\n",
      "c:\\Users\\Administrator\\anaconda3\\envs\\yolov8\\lib\\site-packages\\keras\\src\\preprocessing\\image.py:766: UserWarning: NumpyArrayIterator is set to use the data format convention \"channels_last\" (channels on axis 3), i.e. expected either 1, 3, or 4 channels on axis 3. However, it was passed an array with shape (117, 26, 26, 5) (5 channels).\n",
      "  warnings.warn(\n",
      "c:\\Users\\Administrator\\anaconda3\\envs\\yolov8\\lib\\site-packages\\keras\\src\\preprocessing\\image.py:766: UserWarning: NumpyArrayIterator is set to use the data format convention \"channels_last\" (channels on axis 3), i.e. expected either 1, 3, or 4 channels on axis 3. However, it was passed an array with shape (127, 26, 26, 5) (5 channels).\n",
      "  warnings.warn(\n",
      "c:\\Users\\Administrator\\anaconda3\\envs\\yolov8\\lib\\site-packages\\keras\\src\\preprocessing\\image.py:766: UserWarning: NumpyArrayIterator is set to use the data format convention \"channels_last\" (channels on axis 3), i.e. expected either 1, 3, or 4 channels on axis 3. However, it was passed an array with shape (167, 26, 26, 5) (5 channels).\n",
      "  warnings.warn(\n",
      "c:\\Users\\Administrator\\anaconda3\\envs\\yolov8\\lib\\site-packages\\keras\\src\\preprocessing\\image.py:766: UserWarning: NumpyArrayIterator is set to use the data format convention \"channels_last\" (channels on axis 3), i.e. expected either 1, 3, or 4 channels on axis 3. However, it was passed an array with shape (211, 26, 26, 5) (5 channels).\n",
      "  warnings.warn(\n"
     ]
    },
    {
     "name": "stdout",
     "output_type": "stream",
     "text": [
      "Processing site: Dubasnica_1\n"
     ]
    },
    {
     "name": "stderr",
     "output_type": "stream",
     "text": [
      "c:\\Users\\Administrator\\anaconda3\\envs\\yolov8\\lib\\site-packages\\keras\\src\\preprocessing\\image.py:766: UserWarning: NumpyArrayIterator is set to use the data format convention \"channels_last\" (channels on axis 3), i.e. expected either 1, 3, or 4 channels on axis 3. However, it was passed an array with shape (53, 26, 26, 5) (5 channels).\n",
      "  warnings.warn(\n",
      "c:\\Users\\Administrator\\anaconda3\\envs\\yolov8\\lib\\site-packages\\keras\\src\\preprocessing\\image.py:766: UserWarning: NumpyArrayIterator is set to use the data format convention \"channels_last\" (channels on axis 3), i.e. expected either 1, 3, or 4 channels on axis 3. However, it was passed an array with shape (85, 26, 26, 5) (5 channels).\n",
      "  warnings.warn(\n",
      "c:\\Users\\Administrator\\anaconda3\\envs\\yolov8\\lib\\site-packages\\keras\\src\\preprocessing\\image.py:766: UserWarning: NumpyArrayIterator is set to use the data format convention \"channels_last\" (channels on axis 3), i.e. expected either 1, 3, or 4 channels on axis 3. However, it was passed an array with shape (69, 26, 26, 5) (5 channels).\n",
      "  warnings.warn(\n",
      "c:\\Users\\Administrator\\anaconda3\\envs\\yolov8\\lib\\site-packages\\keras\\src\\preprocessing\\image.py:766: UserWarning: NumpyArrayIterator is set to use the data format convention \"channels_last\" (channels on axis 3), i.e. expected either 1, 3, or 4 channels on axis 3. However, it was passed an array with shape (110, 26, 26, 5) (5 channels).\n",
      "  warnings.warn(\n"
     ]
    },
    {
     "name": "stdout",
     "output_type": "stream",
     "text": [
      "Processing site: Dubasnica_2\n"
     ]
    },
    {
     "name": "stderr",
     "output_type": "stream",
     "text": [
      "c:\\Users\\Administrator\\anaconda3\\envs\\yolov8\\lib\\site-packages\\keras\\src\\preprocessing\\image.py:766: UserWarning: NumpyArrayIterator is set to use the data format convention \"channels_last\" (channels on axis 3), i.e. expected either 1, 3, or 4 channels on axis 3. However, it was passed an array with shape (134, 26, 26, 5) (5 channels).\n",
      "  warnings.warn(\n",
      "c:\\Users\\Administrator\\anaconda3\\envs\\yolov8\\lib\\site-packages\\keras\\src\\preprocessing\\image.py:766: UserWarning: NumpyArrayIterator is set to use the data format convention \"channels_last\" (channels on axis 3), i.e. expected either 1, 3, or 4 channels on axis 3. However, it was passed an array with shape (30, 26, 26, 5) (5 channels).\n",
      "  warnings.warn(\n",
      "c:\\Users\\Administrator\\anaconda3\\envs\\yolov8\\lib\\site-packages\\keras\\src\\preprocessing\\image.py:766: UserWarning: NumpyArrayIterator is set to use the data format convention \"channels_last\" (channels on axis 3), i.e. expected either 1, 3, or 4 channels on axis 3. However, it was passed an array with shape (59, 26, 26, 5) (5 channels).\n",
      "  warnings.warn(\n",
      "c:\\Users\\Administrator\\anaconda3\\envs\\yolov8\\lib\\site-packages\\keras\\src\\preprocessing\\image.py:766: UserWarning: NumpyArrayIterator is set to use the data format convention \"channels_last\" (channels on axis 3), i.e. expected either 1, 3, or 4 channels on axis 3. However, it was passed an array with shape (139, 26, 26, 5) (5 channels).\n",
      "  warnings.warn(\n"
     ]
    },
    {
     "name": "stdout",
     "output_type": "stream",
     "text": [
      "Processing site: Golijska_reka\n"
     ]
    },
    {
     "name": "stderr",
     "output_type": "stream",
     "text": [
      "c:\\Users\\Administrator\\anaconda3\\envs\\yolov8\\lib\\site-packages\\keras\\src\\preprocessing\\image.py:766: UserWarning: NumpyArrayIterator is set to use the data format convention \"channels_last\" (channels on axis 3), i.e. expected either 1, 3, or 4 channels on axis 3. However, it was passed an array with shape (22, 26, 26, 5) (5 channels).\n",
      "  warnings.warn(\n",
      "c:\\Users\\Administrator\\anaconda3\\envs\\yolov8\\lib\\site-packages\\keras\\src\\preprocessing\\image.py:766: UserWarning: NumpyArrayIterator is set to use the data format convention \"channels_last\" (channels on axis 3), i.e. expected either 1, 3, or 4 channels on axis 3. However, it was passed an array with shape (273, 26, 26, 5) (5 channels).\n",
      "  warnings.warn(\n",
      "c:\\Users\\Administrator\\anaconda3\\envs\\yolov8\\lib\\site-packages\\keras\\src\\preprocessing\\image.py:766: UserWarning: NumpyArrayIterator is set to use the data format convention \"channels_last\" (channels on axis 3), i.e. expected either 1, 3, or 4 channels on axis 3. However, it was passed an array with shape (156, 26, 26, 5) (5 channels).\n",
      "  warnings.warn(\n",
      "c:\\Users\\Administrator\\anaconda3\\envs\\yolov8\\lib\\site-packages\\keras\\src\\preprocessing\\image.py:766: UserWarning: NumpyArrayIterator is set to use the data format convention \"channels_last\" (channels on axis 3), i.e. expected either 1, 3, or 4 channels on axis 3. However, it was passed an array with shape (175, 26, 26, 5) (5 channels).\n",
      "  warnings.warn(\n",
      "c:\\Users\\Administrator\\anaconda3\\envs\\yolov8\\lib\\site-packages\\keras\\src\\preprocessing\\image.py:766: UserWarning: NumpyArrayIterator is set to use the data format convention \"channels_last\" (channels on axis 3), i.e. expected either 1, 3, or 4 channels on axis 3. However, it was passed an array with shape (150, 26, 26, 5) (5 channels).\n",
      "  warnings.warn(\n",
      "c:\\Users\\Administrator\\anaconda3\\envs\\yolov8\\lib\\site-packages\\keras\\src\\preprocessing\\image.py:766: UserWarning: NumpyArrayIterator is set to use the data format convention \"channels_last\" (channels on axis 3), i.e. expected either 1, 3, or 4 channels on axis 3. However, it was passed an array with shape (31, 26, 26, 5) (5 channels).\n",
      "  warnings.warn(\n"
     ]
    },
    {
     "name": "stdout",
     "output_type": "stream",
     "text": [
      "Processing site: Kamena_Gora_1\n"
     ]
    },
    {
     "name": "stderr",
     "output_type": "stream",
     "text": [
      "c:\\Users\\Administrator\\anaconda3\\envs\\yolov8\\lib\\site-packages\\keras\\src\\preprocessing\\image.py:766: UserWarning: NumpyArrayIterator is set to use the data format convention \"channels_last\" (channels on axis 3), i.e. expected either 1, 3, or 4 channels on axis 3. However, it was passed an array with shape (207, 26, 26, 5) (5 channels).\n",
      "  warnings.warn(\n",
      "c:\\Users\\Administrator\\anaconda3\\envs\\yolov8\\lib\\site-packages\\keras\\src\\preprocessing\\image.py:766: UserWarning: NumpyArrayIterator is set to use the data format convention \"channels_last\" (channels on axis 3), i.e. expected either 1, 3, or 4 channels on axis 3. However, it was passed an array with shape (145, 26, 26, 5) (5 channels).\n",
      "  warnings.warn(\n",
      "c:\\Users\\Administrator\\anaconda3\\envs\\yolov8\\lib\\site-packages\\keras\\src\\preprocessing\\image.py:766: UserWarning: NumpyArrayIterator is set to use the data format convention \"channels_last\" (channels on axis 3), i.e. expected either 1, 3, or 4 channels on axis 3. However, it was passed an array with shape (117, 26, 26, 5) (5 channels).\n",
      "  warnings.warn(\n"
     ]
    },
    {
     "name": "stdout",
     "output_type": "stream",
     "text": [
      "Processing site: Kamena_Gora_2\n"
     ]
    },
    {
     "name": "stderr",
     "output_type": "stream",
     "text": [
      "c:\\Users\\Administrator\\anaconda3\\envs\\yolov8\\lib\\site-packages\\keras\\src\\preprocessing\\image.py:766: UserWarning: NumpyArrayIterator is set to use the data format convention \"channels_last\" (channels on axis 3), i.e. expected either 1, 3, or 4 channels on axis 3. However, it was passed an array with shape (148, 26, 26, 5) (5 channels).\n",
      "  warnings.warn(\n",
      "c:\\Users\\Administrator\\anaconda3\\envs\\yolov8\\lib\\site-packages\\keras\\src\\preprocessing\\image.py:766: UserWarning: NumpyArrayIterator is set to use the data format convention \"channels_last\" (channels on axis 3), i.e. expected either 1, 3, or 4 channels on axis 3. However, it was passed an array with shape (45, 26, 26, 5) (5 channels).\n",
      "  warnings.warn(\n",
      "c:\\Users\\Administrator\\anaconda3\\envs\\yolov8\\lib\\site-packages\\keras\\src\\preprocessing\\image.py:766: UserWarning: NumpyArrayIterator is set to use the data format convention \"channels_last\" (channels on axis 3), i.e. expected either 1, 3, or 4 channels on axis 3. However, it was passed an array with shape (113, 26, 26, 5) (5 channels).\n",
      "  warnings.warn(\n",
      "c:\\Users\\Administrator\\anaconda3\\envs\\yolov8\\lib\\site-packages\\keras\\src\\preprocessing\\image.py:766: UserWarning: NumpyArrayIterator is set to use the data format convention \"channels_last\" (channels on axis 3), i.e. expected either 1, 3, or 4 channels on axis 3. However, it was passed an array with shape (66, 26, 26, 5) (5 channels).\n",
      "  warnings.warn(\n"
     ]
    },
    {
     "name": "stdout",
     "output_type": "stream",
     "text": [
      "Processing site: Kriva_Feja\n"
     ]
    },
    {
     "name": "stderr",
     "output_type": "stream",
     "text": [
      "c:\\Users\\Administrator\\anaconda3\\envs\\yolov8\\lib\\site-packages\\keras\\src\\preprocessing\\image.py:766: UserWarning: NumpyArrayIterator is set to use the data format convention \"channels_last\" (channels on axis 3), i.e. expected either 1, 3, or 4 channels on axis 3. However, it was passed an array with shape (133, 26, 26, 5) (5 channels).\n",
      "  warnings.warn(\n",
      "c:\\Users\\Administrator\\anaconda3\\envs\\yolov8\\lib\\site-packages\\keras\\src\\preprocessing\\image.py:766: UserWarning: NumpyArrayIterator is set to use the data format convention \"channels_last\" (channels on axis 3), i.e. expected either 1, 3, or 4 channels on axis 3. However, it was passed an array with shape (99, 26, 26, 5) (5 channels).\n",
      "  warnings.warn(\n",
      "c:\\Users\\Administrator\\anaconda3\\envs\\yolov8\\lib\\site-packages\\keras\\src\\preprocessing\\image.py:766: UserWarning: NumpyArrayIterator is set to use the data format convention \"channels_last\" (channels on axis 3), i.e. expected either 1, 3, or 4 channels on axis 3. However, it was passed an array with shape (113, 26, 26, 5) (5 channels).\n",
      "  warnings.warn(\n",
      "c:\\Users\\Administrator\\anaconda3\\envs\\yolov8\\lib\\site-packages\\keras\\src\\preprocessing\\image.py:766: UserWarning: NumpyArrayIterator is set to use the data format convention \"channels_last\" (channels on axis 3), i.e. expected either 1, 3, or 4 channels on axis 3. However, it was passed an array with shape (219, 26, 26, 5) (5 channels).\n",
      "  warnings.warn(\n"
     ]
    },
    {
     "name": "stdout",
     "output_type": "stream",
     "text": [
      "Processing site: Malinik\n"
     ]
    },
    {
     "name": "stderr",
     "output_type": "stream",
     "text": [
      "c:\\Users\\Administrator\\anaconda3\\envs\\yolov8\\lib\\site-packages\\keras\\src\\preprocessing\\image.py:766: UserWarning: NumpyArrayIterator is set to use the data format convention \"channels_last\" (channels on axis 3), i.e. expected either 1, 3, or 4 channels on axis 3. However, it was passed an array with shape (101, 26, 26, 5) (5 channels).\n",
      "  warnings.warn(\n",
      "c:\\Users\\Administrator\\anaconda3\\envs\\yolov8\\lib\\site-packages\\keras\\src\\preprocessing\\image.py:766: UserWarning: NumpyArrayIterator is set to use the data format convention \"channels_last\" (channels on axis 3), i.e. expected either 1, 3, or 4 channels on axis 3. However, it was passed an array with shape (131, 26, 26, 5) (5 channels).\n",
      "  warnings.warn(\n",
      "c:\\Users\\Administrator\\anaconda3\\envs\\yolov8\\lib\\site-packages\\keras\\src\\preprocessing\\image.py:766: UserWarning: NumpyArrayIterator is set to use the data format convention \"channels_last\" (channels on axis 3), i.e. expected either 1, 3, or 4 channels on axis 3. However, it was passed an array with shape (191, 26, 26, 5) (5 channels).\n",
      "  warnings.warn(\n",
      "c:\\Users\\Administrator\\anaconda3\\envs\\yolov8\\lib\\site-packages\\keras\\src\\preprocessing\\image.py:766: UserWarning: NumpyArrayIterator is set to use the data format convention \"channels_last\" (channels on axis 3), i.e. expected either 1, 3, or 4 channels on axis 3. However, it was passed an array with shape (351, 26, 26, 5) (5 channels).\n",
      "  warnings.warn(\n"
     ]
    },
    {
     "name": "stdout",
     "output_type": "stream",
     "text": [
      "Processing site: Mali_Idjos\n"
     ]
    },
    {
     "name": "stderr",
     "output_type": "stream",
     "text": [
      "c:\\Users\\Administrator\\anaconda3\\envs\\yolov8\\lib\\site-packages\\keras\\src\\preprocessing\\image.py:766: UserWarning: NumpyArrayIterator is set to use the data format convention \"channels_last\" (channels on axis 3), i.e. expected either 1, 3, or 4 channels on axis 3. However, it was passed an array with shape (144, 26, 26, 5) (5 channels).\n",
      "  warnings.warn(\n",
      "c:\\Users\\Administrator\\anaconda3\\envs\\yolov8\\lib\\site-packages\\keras\\src\\preprocessing\\image.py:766: UserWarning: NumpyArrayIterator is set to use the data format convention \"channels_last\" (channels on axis 3), i.e. expected either 1, 3, or 4 channels on axis 3. However, it was passed an array with shape (158, 26, 26, 5) (5 channels).\n",
      "  warnings.warn(\n",
      "c:\\Users\\Administrator\\anaconda3\\envs\\yolov8\\lib\\site-packages\\keras\\src\\preprocessing\\image.py:766: UserWarning: NumpyArrayIterator is set to use the data format convention \"channels_last\" (channels on axis 3), i.e. expected either 1, 3, or 4 channels on axis 3. However, it was passed an array with shape (107, 26, 26, 5) (5 channels).\n",
      "  warnings.warn(\n"
     ]
    },
    {
     "name": "stdout",
     "output_type": "stream",
     "text": [
      "Processing site: new\n"
     ]
    },
    {
     "name": "stderr",
     "output_type": "stream",
     "text": [
      "c:\\Users\\Administrator\\anaconda3\\envs\\yolov8\\lib\\site-packages\\keras\\src\\preprocessing\\image.py:766: UserWarning: NumpyArrayIterator is set to use the data format convention \"channels_last\" (channels on axis 3), i.e. expected either 1, 3, or 4 channels on axis 3. However, it was passed an array with shape (151, 26, 26, 5) (5 channels).\n",
      "  warnings.warn(\n",
      "c:\\Users\\Administrator\\anaconda3\\envs\\yolov8\\lib\\site-packages\\keras\\src\\preprocessing\\image.py:766: UserWarning: NumpyArrayIterator is set to use the data format convention \"channels_last\" (channels on axis 3), i.e. expected either 1, 3, or 4 channels on axis 3. However, it was passed an array with shape (136, 26, 26, 5) (5 channels).\n",
      "  warnings.warn(\n",
      "c:\\Users\\Administrator\\anaconda3\\envs\\yolov8\\lib\\site-packages\\keras\\src\\preprocessing\\image.py:766: UserWarning: NumpyArrayIterator is set to use the data format convention \"channels_last\" (channels on axis 3), i.e. expected either 1, 3, or 4 channels on axis 3. However, it was passed an array with shape (116, 26, 26, 5) (5 channels).\n",
      "  warnings.warn(\n"
     ]
    },
    {
     "name": "stdout",
     "output_type": "stream",
     "text": [
      "Processing site: Novo_Milosevo\n"
     ]
    },
    {
     "name": "stderr",
     "output_type": "stream",
     "text": [
      "c:\\Users\\Administrator\\anaconda3\\envs\\yolov8\\lib\\site-packages\\keras\\src\\preprocessing\\image.py:766: UserWarning: NumpyArrayIterator is set to use the data format convention \"channels_last\" (channels on axis 3), i.e. expected either 1, 3, or 4 channels on axis 3. However, it was passed an array with shape (120, 26, 26, 5) (5 channels).\n",
      "  warnings.warn(\n",
      "c:\\Users\\Administrator\\anaconda3\\envs\\yolov8\\lib\\site-packages\\keras\\src\\preprocessing\\image.py:766: UserWarning: NumpyArrayIterator is set to use the data format convention \"channels_last\" (channels on axis 3), i.e. expected either 1, 3, or 4 channels on axis 3. However, it was passed an array with shape (116, 26, 26, 5) (5 channels).\n",
      "  warnings.warn(\n",
      "c:\\Users\\Administrator\\anaconda3\\envs\\yolov8\\lib\\site-packages\\keras\\src\\preprocessing\\image.py:766: UserWarning: NumpyArrayIterator is set to use the data format convention \"channels_last\" (channels on axis 3), i.e. expected either 1, 3, or 4 channels on axis 3. However, it was passed an array with shape (166, 26, 26, 5) (5 channels).\n",
      "  warnings.warn(\n"
     ]
    },
    {
     "name": "stdout",
     "output_type": "stream",
     "text": [
      "Processing site: Odvracenica\n"
     ]
    },
    {
     "name": "stderr",
     "output_type": "stream",
     "text": [
      "c:\\Users\\Administrator\\anaconda3\\envs\\yolov8\\lib\\site-packages\\keras\\src\\preprocessing\\image.py:766: UserWarning: NumpyArrayIterator is set to use the data format convention \"channels_last\" (channels on axis 3), i.e. expected either 1, 3, or 4 channels on axis 3. However, it was passed an array with shape (92, 26, 26, 5) (5 channels).\n",
      "  warnings.warn(\n",
      "c:\\Users\\Administrator\\anaconda3\\envs\\yolov8\\lib\\site-packages\\keras\\src\\preprocessing\\image.py:766: UserWarning: NumpyArrayIterator is set to use the data format convention \"channels_last\" (channels on axis 3), i.e. expected either 1, 3, or 4 channels on axis 3. However, it was passed an array with shape (95, 26, 26, 5) (5 channels).\n",
      "  warnings.warn(\n",
      "c:\\Users\\Administrator\\anaconda3\\envs\\yolov8\\lib\\site-packages\\keras\\src\\preprocessing\\image.py:766: UserWarning: NumpyArrayIterator is set to use the data format convention \"channels_last\" (channels on axis 3), i.e. expected either 1, 3, or 4 channels on axis 3. However, it was passed an array with shape (101, 26, 26, 5) (5 channels).\n",
      "  warnings.warn(\n",
      "c:\\Users\\Administrator\\anaconda3\\envs\\yolov8\\lib\\site-packages\\keras\\src\\preprocessing\\image.py:766: UserWarning: NumpyArrayIterator is set to use the data format convention \"channels_last\" (channels on axis 3), i.e. expected either 1, 3, or 4 channels on axis 3. However, it was passed an array with shape (232, 26, 26, 5) (5 channels).\n",
      "  warnings.warn(\n"
     ]
    },
    {
     "name": "stdout",
     "output_type": "stream",
     "text": [
      "Processing site: Rusanda\n"
     ]
    },
    {
     "name": "stderr",
     "output_type": "stream",
     "text": [
      "c:\\Users\\Administrator\\anaconda3\\envs\\yolov8\\lib\\site-packages\\keras\\src\\preprocessing\\image.py:766: UserWarning: NumpyArrayIterator is set to use the data format convention \"channels_last\" (channels on axis 3), i.e. expected either 1, 3, or 4 channels on axis 3. However, it was passed an array with shape (153, 26, 26, 5) (5 channels).\n",
      "  warnings.warn(\n",
      "c:\\Users\\Administrator\\anaconda3\\envs\\yolov8\\lib\\site-packages\\keras\\src\\preprocessing\\image.py:766: UserWarning: NumpyArrayIterator is set to use the data format convention \"channels_last\" (channels on axis 3), i.e. expected either 1, 3, or 4 channels on axis 3. However, it was passed an array with shape (194, 26, 26, 5) (5 channels).\n",
      "  warnings.warn(\n",
      "c:\\Users\\Administrator\\anaconda3\\envs\\yolov8\\lib\\site-packages\\keras\\src\\preprocessing\\image.py:766: UserWarning: NumpyArrayIterator is set to use the data format convention \"channels_last\" (channels on axis 3), i.e. expected either 1, 3, or 4 channels on axis 3. However, it was passed an array with shape (115, 26, 26, 5) (5 channels).\n",
      "  warnings.warn(\n"
     ]
    },
    {
     "name": "stdout",
     "output_type": "stream",
     "text": [
      "Processing site: Topli_Do\n"
     ]
    },
    {
     "name": "stderr",
     "output_type": "stream",
     "text": [
      "c:\\Users\\Administrator\\anaconda3\\envs\\yolov8\\lib\\site-packages\\keras\\src\\preprocessing\\image.py:766: UserWarning: NumpyArrayIterator is set to use the data format convention \"channels_last\" (channels on axis 3), i.e. expected either 1, 3, or 4 channels on axis 3. However, it was passed an array with shape (123, 26, 26, 5) (5 channels).\n",
      "  warnings.warn(\n",
      "c:\\Users\\Administrator\\anaconda3\\envs\\yolov8\\lib\\site-packages\\keras\\src\\preprocessing\\image.py:766: UserWarning: NumpyArrayIterator is set to use the data format convention \"channels_last\" (channels on axis 3), i.e. expected either 1, 3, or 4 channels on axis 3. However, it was passed an array with shape (229, 26, 26, 5) (5 channels).\n",
      "  warnings.warn(\n",
      "c:\\Users\\Administrator\\anaconda3\\envs\\yolov8\\lib\\site-packages\\keras\\src\\preprocessing\\image.py:766: UserWarning: NumpyArrayIterator is set to use the data format convention \"channels_last\" (channels on axis 3), i.e. expected either 1, 3, or 4 channels on axis 3. However, it was passed an array with shape (175, 26, 26, 5) (5 channels).\n",
      "  warnings.warn(\n",
      "c:\\Users\\Administrator\\anaconda3\\envs\\yolov8\\lib\\site-packages\\keras\\src\\preprocessing\\image.py:766: UserWarning: NumpyArrayIterator is set to use the data format convention \"channels_last\" (channels on axis 3), i.e. expected either 1, 3, or 4 channels on axis 3. However, it was passed an array with shape (137, 26, 26, 5) (5 channels).\n",
      "  warnings.warn(\n",
      "c:\\Users\\Administrator\\anaconda3\\envs\\yolov8\\lib\\site-packages\\keras\\src\\preprocessing\\image.py:766: UserWarning: NumpyArrayIterator is set to use the data format convention \"channels_last\" (channels on axis 3), i.e. expected either 1, 3, or 4 channels on axis 3. However, it was passed an array with shape (325, 26, 26, 5) (5 channels).\n",
      "  warnings.warn(\n",
      "c:\\Users\\Administrator\\anaconda3\\envs\\yolov8\\lib\\site-packages\\keras\\src\\preprocessing\\image.py:766: UserWarning: NumpyArrayIterator is set to use the data format convention \"channels_last\" (channels on axis 3), i.e. expected either 1, 3, or 4 channels on axis 3. However, it was passed an array with shape (272, 26, 26, 5) (5 channels).\n",
      "  warnings.warn(\n"
     ]
    },
    {
     "name": "stdout",
     "output_type": "stream",
     "text": [
      "Processing site: Zabare\n"
     ]
    },
    {
     "name": "stderr",
     "output_type": "stream",
     "text": [
      "c:\\Users\\Administrator\\anaconda3\\envs\\yolov8\\lib\\site-packages\\keras\\src\\preprocessing\\image.py:766: UserWarning: NumpyArrayIterator is set to use the data format convention \"channels_last\" (channels on axis 3), i.e. expected either 1, 3, or 4 channels on axis 3. However, it was passed an array with shape (116, 26, 26, 5) (5 channels).\n",
      "  warnings.warn(\n",
      "c:\\Users\\Administrator\\anaconda3\\envs\\yolov8\\lib\\site-packages\\keras\\src\\preprocessing\\image.py:766: UserWarning: NumpyArrayIterator is set to use the data format convention \"channels_last\" (channels on axis 3), i.e. expected either 1, 3, or 4 channels on axis 3. However, it was passed an array with shape (92, 26, 26, 5) (5 channels).\n",
      "  warnings.warn(\n",
      "c:\\Users\\Administrator\\anaconda3\\envs\\yolov8\\lib\\site-packages\\keras\\src\\preprocessing\\image.py:766: UserWarning: NumpyArrayIterator is set to use the data format convention \"channels_last\" (channels on axis 3), i.e. expected either 1, 3, or 4 channels on axis 3. However, it was passed an array with shape (117, 26, 26, 5) (5 channels).\n",
      "  warnings.warn(\n"
     ]
    },
    {
     "name": "stdout",
     "output_type": "stream",
     "text": [
      "Processing site: Zlatar_Vodena_poljana\n"
     ]
    },
    {
     "name": "stderr",
     "output_type": "stream",
     "text": [
      "c:\\Users\\Administrator\\anaconda3\\envs\\yolov8\\lib\\site-packages\\keras\\src\\preprocessing\\image.py:766: UserWarning: NumpyArrayIterator is set to use the data format convention \"channels_last\" (channels on axis 3), i.e. expected either 1, 3, or 4 channels on axis 3. However, it was passed an array with shape (236, 26, 26, 5) (5 channels).\n",
      "  warnings.warn(\n",
      "c:\\Users\\Administrator\\anaconda3\\envs\\yolov8\\lib\\site-packages\\keras\\src\\preprocessing\\image.py:766: UserWarning: NumpyArrayIterator is set to use the data format convention \"channels_last\" (channels on axis 3), i.e. expected either 1, 3, or 4 channels on axis 3. However, it was passed an array with shape (144, 26, 26, 5) (5 channels).\n",
      "  warnings.warn(\n",
      "c:\\Users\\Administrator\\anaconda3\\envs\\yolov8\\lib\\site-packages\\keras\\src\\preprocessing\\image.py:766: UserWarning: NumpyArrayIterator is set to use the data format convention \"channels_last\" (channels on axis 3), i.e. expected either 1, 3, or 4 channels on axis 3. However, it was passed an array with shape (167, 26, 26, 5) (5 channels).\n",
      "  warnings.warn(\n",
      "c:\\Users\\Administrator\\anaconda3\\envs\\yolov8\\lib\\site-packages\\keras\\src\\preprocessing\\image.py:766: UserWarning: NumpyArrayIterator is set to use the data format convention \"channels_last\" (channels on axis 3), i.e. expected either 1, 3, or 4 channels on axis 3. However, it was passed an array with shape (215, 26, 26, 5) (5 channels).\n",
      "  warnings.warn(\n"
     ]
    },
    {
     "name": "stdout",
     "output_type": "stream",
     "text": [
      "Processing site: Zlatibor2\n"
     ]
    },
    {
     "name": "stderr",
     "output_type": "stream",
     "text": [
      "c:\\Users\\Administrator\\anaconda3\\envs\\yolov8\\lib\\site-packages\\keras\\src\\preprocessing\\image.py:766: UserWarning: NumpyArrayIterator is set to use the data format convention \"channels_last\" (channels on axis 3), i.e. expected either 1, 3, or 4 channels on axis 3. However, it was passed an array with shape (238, 26, 26, 5) (5 channels).\n",
      "  warnings.warn(\n",
      "c:\\Users\\Administrator\\anaconda3\\envs\\yolov8\\lib\\site-packages\\keras\\src\\preprocessing\\image.py:766: UserWarning: NumpyArrayIterator is set to use the data format convention \"channels_last\" (channels on axis 3), i.e. expected either 1, 3, or 4 channels on axis 3. However, it was passed an array with shape (278, 26, 26, 5) (5 channels).\n",
      "  warnings.warn(\n",
      "c:\\Users\\Administrator\\anaconda3\\envs\\yolov8\\lib\\site-packages\\keras\\src\\preprocessing\\image.py:766: UserWarning: NumpyArrayIterator is set to use the data format convention \"channels_last\" (channels on axis 3), i.e. expected either 1, 3, or 4 channels on axis 3. However, it was passed an array with shape (234, 26, 26, 5) (5 channels).\n",
      "  warnings.warn(\n",
      "c:\\Users\\Administrator\\anaconda3\\envs\\yolov8\\lib\\site-packages\\keras\\src\\preprocessing\\image.py:766: UserWarning: NumpyArrayIterator is set to use the data format convention \"channels_last\" (channels on axis 3), i.e. expected either 1, 3, or 4 channels on axis 3. However, it was passed an array with shape (192, 26, 26, 5) (5 channels).\n",
      "  warnings.warn(\n",
      "c:\\Users\\Administrator\\anaconda3\\envs\\yolov8\\lib\\site-packages\\keras\\src\\preprocessing\\image.py:766: UserWarning: NumpyArrayIterator is set to use the data format convention \"channels_last\" (channels on axis 3), i.e. expected either 1, 3, or 4 channels on axis 3. However, it was passed an array with shape (246, 26, 26, 5) (5 channels).\n",
      "  warnings.warn(\n"
     ]
    },
    {
     "name": "stdout",
     "output_type": "stream",
     "text": [
      "Processing site: Zlatibor_1\n"
     ]
    },
    {
     "name": "stderr",
     "output_type": "stream",
     "text": [
      "c:\\Users\\Administrator\\anaconda3\\envs\\yolov8\\lib\\site-packages\\keras\\src\\preprocessing\\image.py:766: UserWarning: NumpyArrayIterator is set to use the data format convention \"channels_last\" (channels on axis 3), i.e. expected either 1, 3, or 4 channels on axis 3. However, it was passed an array with shape (182, 26, 26, 5) (5 channels).\n",
      "  warnings.warn(\n",
      "c:\\Users\\Administrator\\anaconda3\\envs\\yolov8\\lib\\site-packages\\keras\\src\\preprocessing\\image.py:766: UserWarning: NumpyArrayIterator is set to use the data format convention \"channels_last\" (channels on axis 3), i.e. expected either 1, 3, or 4 channels on axis 3. However, it was passed an array with shape (114, 26, 26, 5) (5 channels).\n",
      "  warnings.warn(\n",
      "c:\\Users\\Administrator\\anaconda3\\envs\\yolov8\\lib\\site-packages\\keras\\src\\preprocessing\\image.py:766: UserWarning: NumpyArrayIterator is set to use the data format convention \"channels_last\" (channels on axis 3), i.e. expected either 1, 3, or 4 channels on axis 3. However, it was passed an array with shape (152, 26, 26, 5) (5 channels).\n",
      "  warnings.warn(\n"
     ]
    },
    {
     "name": "stdout",
     "output_type": "stream",
     "text": [
      "Processing site: Zlot\n"
     ]
    },
    {
     "name": "stderr",
     "output_type": "stream",
     "text": [
      "c:\\Users\\Administrator\\anaconda3\\envs\\yolov8\\lib\\site-packages\\keras\\src\\preprocessing\\image.py:766: UserWarning: NumpyArrayIterator is set to use the data format convention \"channels_last\" (channels on axis 3), i.e. expected either 1, 3, or 4 channels on axis 3. However, it was passed an array with shape (180, 26, 26, 5) (5 channels).\n",
      "  warnings.warn(\n",
      "c:\\Users\\Administrator\\anaconda3\\envs\\yolov8\\lib\\site-packages\\keras\\src\\preprocessing\\image.py:766: UserWarning: NumpyArrayIterator is set to use the data format convention \"channels_last\" (channels on axis 3), i.e. expected either 1, 3, or 4 channels on axis 3. However, it was passed an array with shape (176, 26, 26, 5) (5 channels).\n",
      "  warnings.warn(\n",
      "c:\\Users\\Administrator\\anaconda3\\envs\\yolov8\\lib\\site-packages\\keras\\src\\preprocessing\\image.py:766: UserWarning: NumpyArrayIterator is set to use the data format convention \"channels_last\" (channels on axis 3), i.e. expected either 1, 3, or 4 channels on axis 3. However, it was passed an array with shape (97, 26, 26, 5) (5 channels).\n",
      "  warnings.warn(\n",
      "c:\\Users\\Administrator\\anaconda3\\envs\\yolov8\\lib\\site-packages\\keras\\src\\preprocessing\\image.py:766: UserWarning: NumpyArrayIterator is set to use the data format convention \"channels_last\" (channels on axis 3), i.e. expected either 1, 3, or 4 channels on axis 3. However, it was passed an array with shape (164, 26, 26, 5) (5 channels).\n",
      "  warnings.warn(\n"
     ]
    }
   ],
   "source": [
    "if __name__ == \"__main__\":\n",
    "    input_folder = r\"E:\\Bojana\\Training\\Clipped_v2\"\n",
    "    geojson_folder = r\"E:\\Bojana\\Training\\Geojsons\"\n",
    "    results_folder = r\"E:\\Bojana\\Training\\Final-Site-sorted-results\"\n",
    "    os.makedirs(results_folder, exist_ok=True)\n",
    "    class_list = ['plantations', 'shrubs', 'meadows', 'roads', 'agricultural fields', 'water', 'meadows', 'human-made objects', 'forests', 'rocks']\n",
    "\n",
    "    num_classes = len(class_list)  # Ensure we have a fixed number of classes\n",
    "    all_patches = []\n",
    "    all_labels = []\n",
    "\n",
    "    for site_folder in os.listdir(input_folder):\n",
    "        full_site_folder = os.path.join(input_folder, site_folder)\n",
    "        \n",
    "        if os.path.isdir(full_site_folder):\n",
    "            print(f\"Processing site: {site_folder}\")\n",
    "\n",
    "            checker = CNN_Segmentor(full_site_folder, geojson_folder, class_list)\n",
    "            checker.load_data()\n",
    "\n",
    "            X, y, label_encoder = checker.preprocess_data()\n",
    "\n",
    "            # Ensure all patches are resized to (26, 26, 5)\n",
    "            consistent_X = []\n",
    "            for patch in X:\n",
    "                if patch.shape != (26, 26, 5):\n",
    "                    patch_resized = cv2.resize(patch, (26, 26))  # Resize to (26, 26)\n",
    "                    consistent_X.append(patch_resized)\n",
    "                else:\n",
    "                    consistent_X.append(patch)\n",
    "\n",
    "            X = np.array(consistent_X)\n",
    "            \n",
    "            # Ensure that all labels have the same number of classes (num_classes)\n",
    "            y = np.array([np.pad(label, (0, num_classes - len(label)), mode='constant') if len(label) < num_classes else label for label in y])\n",
    "\n",
    "            X, y = checker.augment_data(X, y, label_encoder)\n",
    "\n",
    "            all_patches.extend(X)\n",
    "            all_labels.extend(y)\n"
   ]
  },
  {
   "cell_type": "code",
   "execution_count": 5,
   "metadata": {},
   "outputs": [
    {
     "name": "stdout",
     "output_type": "stream",
     "text": [
      "Training on the full dataset...\n",
      "Epoch 1/100\n"
     ]
    },
    {
     "ename": "ValueError",
     "evalue": "in user code:\n\n    File \"c:\\Users\\Administrator\\anaconda3\\envs\\yolov8\\lib\\site-packages\\keras\\src\\engine\\training.py\", line 1338, in train_function  *\n        return step_function(self, iterator)\n    File \"c:\\Users\\Administrator\\anaconda3\\envs\\yolov8\\lib\\site-packages\\keras\\src\\engine\\training.py\", line 1322, in step_function  **\n        outputs = model.distribute_strategy.run(run_step, args=(data,))\n    File \"c:\\Users\\Administrator\\anaconda3\\envs\\yolov8\\lib\\site-packages\\keras\\src\\engine\\training.py\", line 1303, in run_step  **\n        outputs = model.train_step(data)\n    File \"c:\\Users\\Administrator\\anaconda3\\envs\\yolov8\\lib\\site-packages\\keras\\src\\engine\\training.py\", line 1081, in train_step\n        loss = self.compute_loss(x, y, y_pred, sample_weight)\n    File \"c:\\Users\\Administrator\\anaconda3\\envs\\yolov8\\lib\\site-packages\\keras\\src\\engine\\training.py\", line 1139, in compute_loss\n        return self.compiled_loss(\n    File \"c:\\Users\\Administrator\\anaconda3\\envs\\yolov8\\lib\\site-packages\\keras\\src\\engine\\compile_utils.py\", line 265, in __call__\n        loss_value = loss_obj(y_t, y_p, sample_weight=sw)\n    File \"c:\\Users\\Administrator\\anaconda3\\envs\\yolov8\\lib\\site-packages\\keras\\src\\losses.py\", line 142, in __call__\n        losses = call_fn(y_true, y_pred)\n    File \"c:\\Users\\Administrator\\anaconda3\\envs\\yolov8\\lib\\site-packages\\keras\\src\\losses.py\", line 268, in call  **\n        return ag_fn(y_true, y_pred, **self._fn_kwargs)\n    File \"c:\\Users\\Administrator\\anaconda3\\envs\\yolov8\\lib\\site-packages\\keras\\src\\losses.py\", line 2122, in categorical_crossentropy\n        return backend.categorical_crossentropy(\n    File \"c:\\Users\\Administrator\\anaconda3\\envs\\yolov8\\lib\\site-packages\\keras\\src\\backend.py\", line 5560, in categorical_crossentropy\n        target.shape.assert_is_compatible_with(output.shape)\n\n    ValueError: Shapes (None, 10) and (None, 0) are incompatible\n",
     "output_type": "error",
     "traceback": [
      "\u001b[1;31m---------------------------------------------------------------------------\u001b[0m",
      "\u001b[1;31mValueError\u001b[0m                                Traceback (most recent call last)",
      "Cell \u001b[1;32mIn[5], line 11\u001b[0m\n\u001b[0;32m      8\u001b[0m overall_checker \u001b[38;5;241m=\u001b[39m CNN_Segmentor(input_folder, geojson_folder, class_list)\n\u001b[0;32m     10\u001b[0m full_model \u001b[38;5;241m=\u001b[39m overall_checker\u001b[38;5;241m.\u001b[39mbuild_cnn()\n\u001b[1;32m---> 11\u001b[0m history_full \u001b[38;5;241m=\u001b[39m \u001b[43moverall_checker\u001b[49m\u001b[38;5;241;43m.\u001b[39;49m\u001b[43mtrain_cnn\u001b[49m\u001b[43m(\u001b[49m\u001b[43mfull_model\u001b[49m\u001b[43m,\u001b[49m\u001b[43m \u001b[49m\u001b[43mX_train_full\u001b[49m\u001b[43m,\u001b[49m\u001b[43m \u001b[49m\u001b[43my_train_full\u001b[49m\u001b[43m,\u001b[49m\u001b[43m \u001b[49m\u001b[43mX_test_full\u001b[49m\u001b[43m,\u001b[49m\u001b[43m \u001b[49m\u001b[43my_test_full\u001b[49m\u001b[43m)\u001b[49m\n\u001b[0;32m     13\u001b[0m overall_checker\u001b[38;5;241m.\u001b[39mset_result_folder(input_folder, results_folder)\n\u001b[0;32m     14\u001b[0m overall_checker\u001b[38;5;241m.\u001b[39mevaluate_cnn(full_model, X_test_full, y_test_full, label_encoder)\n",
      "Cell \u001b[1;32mIn[1], line 186\u001b[0m, in \u001b[0;36mCNN_Segmentor.train_cnn\u001b[1;34m(self, model, X_train, y_train, X_test, y_test)\u001b[0m\n\u001b[0;32m    185\u001b[0m \u001b[38;5;28;01mdef\u001b[39;00m \u001b[38;5;21mtrain_cnn\u001b[39m(\u001b[38;5;28mself\u001b[39m, model, X_train, y_train, X_test, y_test):\n\u001b[1;32m--> 186\u001b[0m     history \u001b[38;5;241m=\u001b[39m \u001b[43mmodel\u001b[49m\u001b[38;5;241;43m.\u001b[39;49m\u001b[43mfit\u001b[49m\u001b[43m(\u001b[49m\u001b[43mX_train\u001b[49m\u001b[43m,\u001b[49m\u001b[43m \u001b[49m\u001b[43my_train\u001b[49m\u001b[43m,\u001b[49m\u001b[43m \u001b[49m\u001b[43mepochs\u001b[49m\u001b[38;5;241;43m=\u001b[39;49m\u001b[38;5;241;43m100\u001b[39;49m\u001b[43m,\u001b[49m\u001b[43m \u001b[49m\u001b[43mbatch_size\u001b[49m\u001b[38;5;241;43m=\u001b[39;49m\u001b[38;5;241;43m16\u001b[39;49m\u001b[43m,\u001b[49m\u001b[43m \u001b[49m\u001b[43mvalidation_data\u001b[49m\u001b[38;5;241;43m=\u001b[39;49m\u001b[43m(\u001b[49m\u001b[43mX_test\u001b[49m\u001b[43m,\u001b[49m\u001b[43m \u001b[49m\u001b[43my_test\u001b[49m\u001b[43m)\u001b[49m\u001b[43m)\u001b[49m\n\u001b[0;32m    187\u001b[0m     model\u001b[38;5;241m.\u001b[39msave(os\u001b[38;5;241m.\u001b[39mpath\u001b[38;5;241m.\u001b[39mjoin(\u001b[38;5;28mself\u001b[39m\u001b[38;5;241m.\u001b[39mresult_folder, \u001b[38;5;124m\"\u001b[39m\u001b[38;5;124mcnn_model.h5\u001b[39m\u001b[38;5;124m\"\u001b[39m))\n\u001b[0;32m    188\u001b[0m     \u001b[38;5;28;01mreturn\u001b[39;00m history\n",
      "File \u001b[1;32mc:\\Users\\Administrator\\anaconda3\\envs\\yolov8\\lib\\site-packages\\keras\\src\\utils\\traceback_utils.py:70\u001b[0m, in \u001b[0;36mfilter_traceback.<locals>.error_handler\u001b[1;34m(*args, **kwargs)\u001b[0m\n\u001b[0;32m     67\u001b[0m     filtered_tb \u001b[38;5;241m=\u001b[39m _process_traceback_frames(e\u001b[38;5;241m.\u001b[39m__traceback__)\n\u001b[0;32m     68\u001b[0m     \u001b[38;5;66;03m# To get the full stack trace, call:\u001b[39;00m\n\u001b[0;32m     69\u001b[0m     \u001b[38;5;66;03m# `tf.debugging.disable_traceback_filtering()`\u001b[39;00m\n\u001b[1;32m---> 70\u001b[0m     \u001b[38;5;28;01mraise\u001b[39;00m e\u001b[38;5;241m.\u001b[39mwith_traceback(filtered_tb) \u001b[38;5;28;01mfrom\u001b[39;00m \u001b[38;5;28;01mNone\u001b[39;00m\n\u001b[0;32m     71\u001b[0m \u001b[38;5;28;01mfinally\u001b[39;00m:\n\u001b[0;32m     72\u001b[0m     \u001b[38;5;28;01mdel\u001b[39;00m filtered_tb\n",
      "File \u001b[1;32mC:\\Users\\ADMINI~1\\AppData\\Local\\Temp\\__autograph_generated_file29cjnwqq.py:15\u001b[0m, in \u001b[0;36mouter_factory.<locals>.inner_factory.<locals>.tf__train_function\u001b[1;34m(iterator)\u001b[0m\n\u001b[0;32m     13\u001b[0m \u001b[38;5;28;01mtry\u001b[39;00m:\n\u001b[0;32m     14\u001b[0m     do_return \u001b[38;5;241m=\u001b[39m \u001b[38;5;28;01mTrue\u001b[39;00m\n\u001b[1;32m---> 15\u001b[0m     retval_ \u001b[38;5;241m=\u001b[39m ag__\u001b[38;5;241m.\u001b[39mconverted_call(ag__\u001b[38;5;241m.\u001b[39mld(step_function), (ag__\u001b[38;5;241m.\u001b[39mld(\u001b[38;5;28mself\u001b[39m), ag__\u001b[38;5;241m.\u001b[39mld(iterator)), \u001b[38;5;28;01mNone\u001b[39;00m, fscope)\n\u001b[0;32m     16\u001b[0m \u001b[38;5;28;01mexcept\u001b[39;00m:\n\u001b[0;32m     17\u001b[0m     do_return \u001b[38;5;241m=\u001b[39m \u001b[38;5;28;01mFalse\u001b[39;00m\n",
      "\u001b[1;31mValueError\u001b[0m: in user code:\n\n    File \"c:\\Users\\Administrator\\anaconda3\\envs\\yolov8\\lib\\site-packages\\keras\\src\\engine\\training.py\", line 1338, in train_function  *\n        return step_function(self, iterator)\n    File \"c:\\Users\\Administrator\\anaconda3\\envs\\yolov8\\lib\\site-packages\\keras\\src\\engine\\training.py\", line 1322, in step_function  **\n        outputs = model.distribute_strategy.run(run_step, args=(data,))\n    File \"c:\\Users\\Administrator\\anaconda3\\envs\\yolov8\\lib\\site-packages\\keras\\src\\engine\\training.py\", line 1303, in run_step  **\n        outputs = model.train_step(data)\n    File \"c:\\Users\\Administrator\\anaconda3\\envs\\yolov8\\lib\\site-packages\\keras\\src\\engine\\training.py\", line 1081, in train_step\n        loss = self.compute_loss(x, y, y_pred, sample_weight)\n    File \"c:\\Users\\Administrator\\anaconda3\\envs\\yolov8\\lib\\site-packages\\keras\\src\\engine\\training.py\", line 1139, in compute_loss\n        return self.compiled_loss(\n    File \"c:\\Users\\Administrator\\anaconda3\\envs\\yolov8\\lib\\site-packages\\keras\\src\\engine\\compile_utils.py\", line 265, in __call__\n        loss_value = loss_obj(y_t, y_p, sample_weight=sw)\n    File \"c:\\Users\\Administrator\\anaconda3\\envs\\yolov8\\lib\\site-packages\\keras\\src\\losses.py\", line 142, in __call__\n        losses = call_fn(y_true, y_pred)\n    File \"c:\\Users\\Administrator\\anaconda3\\envs\\yolov8\\lib\\site-packages\\keras\\src\\losses.py\", line 268, in call  **\n        return ag_fn(y_true, y_pred, **self._fn_kwargs)\n    File \"c:\\Users\\Administrator\\anaconda3\\envs\\yolov8\\lib\\site-packages\\keras\\src\\losses.py\", line 2122, in categorical_crossentropy\n        return backend.categorical_crossentropy(\n    File \"c:\\Users\\Administrator\\anaconda3\\envs\\yolov8\\lib\\site-packages\\keras\\src\\backend.py\", line 5560, in categorical_crossentropy\n        target.shape.assert_is_compatible_with(output.shape)\n\n    ValueError: Shapes (None, 10) and (None, 0) are incompatible\n"
     ]
    }
   ],
   "source": [
    "print(\"Training on the full dataset...\")\n",
    "\n",
    "all_patches = np.array(all_patches)\n",
    "all_labels = np.vstack(all_labels)  # Ensure labels are stacked correctly\n",
    "\n",
    "X_train_full, X_test_full, y_train_full, y_test_full = train_test_split(all_patches, all_labels, test_size=0.2, random_state=42)\n",
    "\n",
    "overall_checker = CNN_Segmentor(input_folder, geojson_folder, class_list)\n",
    "\n",
    "full_model = overall_checker.build_cnn()\n",
    "history_full = overall_checker.train_cnn(full_model, X_train_full, y_train_full, X_test_full, y_test_full)\n",
    "\n",
    "overall_checker.set_result_folder(input_folder, results_folder)\n",
    "overall_checker.evaluate_cnn(full_model, X_test_full, y_test_full, label_encoder)\n",
    "overall_checker.plot_history(history_full)\n",
    "\n",
    "print(\"Training on the full dataset completed.\")\n"
   ]
  },
  {
   "cell_type": "code",
   "execution_count": null,
   "metadata": {},
   "outputs": [],
   "source": []
  }
 ],
 "metadata": {
  "kernelspec": {
   "display_name": "yolov8",
   "language": "python",
   "name": "python3"
  },
  "language_info": {
   "codemirror_mode": {
    "name": "ipython",
    "version": 3
   },
   "file_extension": ".py",
   "mimetype": "text/x-python",
   "name": "python",
   "nbconvert_exporter": "python",
   "pygments_lexer": "ipython3",
   "version": "3.8.18"
  }
 },
 "nbformat": 4,
 "nbformat_minor": 2
}
